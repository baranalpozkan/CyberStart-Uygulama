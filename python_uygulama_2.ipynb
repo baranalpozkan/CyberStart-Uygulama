{
 "cells": [
  {
   "cell_type": "markdown",
   "id": "debf1271-0269-4ad6-a42d-90ff6eca29e5",
   "metadata": {},
   "source": [
    "# UYGULAMA"
   ]
  },
  {
   "cell_type": "markdown",
   "id": "a99e1fbd-2048-46a0-a577-1a27895adc70",
   "metadata": {},
   "source": [
    "## Görev:"
   ]
  },
  {
   "cell_type": "markdown",
   "id": "88014356-b9c8-4121-ae79-c8d4b4b10667",
   "metadata": {},
   "source": [
    "Python'da fonksiyonlar ve döngüler kavramlarını kullanarak, aşağıdaki işlemleri gerçekleştiren bir program yazmanız gerekmektedir:"
   ]
  },
  {
   "cell_type": "markdown",
   "id": "e8fa29df-8a46-4bea-87fc-c00629b1ad4e",
   "metadata": {},
   "source": [
    "### Noktaların Tanımlanması:"
   ]
  },
  {
   "cell_type": "markdown",
   "id": "cc8bd3d2-d952-46fd-a9d8-020cf5e552fb",
   "metadata": {},
   "source": [
    "‘points’ adında bir liste oluşturun. Bu liste, 2D uzaydaki noktaları temsil eden demetler (tuple) içermelidir. Örneğin, ‘(x, y)’ noktası bir demet ‘(x, y)’ olarak temsil edilecektir."
   ]
  },
  {
   "cell_type": "code",
   "execution_count": 16,
   "id": "3f50785c-888d-4e8c-b08f-06178769692f",
   "metadata": {},
   "outputs": [],
   "source": [
    "points = [(1,5), (6,15), (2,25), (-1, 18), (-9, 32)]"
   ]
  },
  {
   "cell_type": "markdown",
   "id": "45276ab1-ad30-4985-84d6-44fdf82573cf",
   "metadata": {},
   "source": [
    "### Fonksiyonların Tanımlanması:"
   ]
  },
  {
   "cell_type": "code",
   "execution_count": 2,
   "id": "fe12ba20-f4d6-4d71-a914-0aaaddde136b",
   "metadata": {},
   "outputs": [],
   "source": [
    "def sqrt(x):\n",
    "    return x ** (1/2)"
   ]
  },
  {
   "cell_type": "code",
   "execution_count": 17,
   "id": "3cfec125-b64f-46db-b31d-6653049908b9",
   "metadata": {},
   "outputs": [],
   "source": [
    "def pow(x):\n",
    "    return x ** 2"
   ]
  },
  {
   "cell_type": "markdown",
   "id": "2bce4a0b-e39b-4b11-82d7-e9ed9cceb4f5",
   "metadata": {},
   "source": [
    "‘euclideanDistance’ adında bir fonksiyon tanımlayın. Bu fonksiyon, iki demet (her biri bir noktayı temsil eder) almalı ve bu iki nokta arasındaki Öklid mesafesini döndürmelidir."
   ]
  },
  {
   "cell_type": "code",
   "execution_count": 19,
   "id": "9e791a72-8bee-4c99-832f-64819c2c7802",
   "metadata": {},
   "outputs": [],
   "source": [
    "def euclideanDistance(p1, p2):\n",
    "    x1, y1 = p1\n",
    "    x2, y2 = p2\n",
    "    return sqrt(pow(x2 - x1) + pow(y2 - y1))"
   ]
  },
  {
   "cell_type": "markdown",
   "id": "d017c61d-741d-4937-9b43-1afb10c6a5e9",
   "metadata": {},
   "source": [
    "### Mesafelerin Hesaplanması:"
   ]
  },
  {
   "cell_type": "markdown",
   "id": "50eebd27-dfb3-4232-9076-1e18b5bb3744",
   "metadata": {},
   "source": [
    "Bir döngü kullanarak, ‘points’ listesindeki her nokta çifti arasındaki Öklid mesafesini hesaplayın. Bu mesafeleri ‘distances’ adında başka bir listede saklayın."
   ]
  },
  {
   "cell_type": "code",
   "execution_count": 21,
   "id": "cdbb8e99-8e1b-4539-9525-521c99de35e4",
   "metadata": {},
   "outputs": [],
   "source": [
    "distances = []\n",
    "\n",
    "for i in range(len(points)):\n",
    "    for j in range(i+1, len(points)):\n",
    "        distance = euclideanDistance(points[i], points[j])\n",
    "        distances.append(distance)\n",
    "    "
   ]
  },
  {
   "cell_type": "markdown",
   "id": "08b4daef-f486-4407-9e42-2ca387aa4eba",
   "metadata": {},
   "source": [
    "### Minimum Mesafenin Bulunması:"
   ]
  },
  {
   "cell_type": "markdown",
   "id": "bcfe6a91-75e9-44da-869b-8384abfadc4c",
   "metadata": {},
   "source": [
    "‘distances’ listesinden minimum mesafeyi bulun ve yazdırın."
   ]
  },
  {
   "cell_type": "code",
   "execution_count": 28,
   "id": "0f0005d1-d609-4a82-aad1-84050ea6ed95",
   "metadata": {},
   "outputs": [
    {
     "name": "stdout",
     "output_type": "stream",
     "text": [
      "Minimum değer: 7.615773105863909\n"
     ]
    }
   ],
   "source": [
    "print(f\"Minimum değer: {sorted(distances)[0]}\")"
   ]
  },
  {
   "cell_type": "code",
   "execution_count": null,
   "id": "a291aefc-de04-48e1-a12c-40b3403407da",
   "metadata": {},
   "outputs": [],
   "source": []
  }
 ],
 "metadata": {
  "kernelspec": {
   "display_name": "Python 3 (ipykernel)",
   "language": "python",
   "name": "python3"
  },
  "language_info": {
   "codemirror_mode": {
    "name": "ipython",
    "version": 3
   },
   "file_extension": ".py",
   "mimetype": "text/x-python",
   "name": "python",
   "nbconvert_exporter": "python",
   "pygments_lexer": "ipython3",
   "version": "3.9.18"
  }
 },
 "nbformat": 4,
 "nbformat_minor": 5
}
